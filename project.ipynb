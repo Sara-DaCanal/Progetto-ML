{
  "nbformat": 4,
  "nbformat_minor": 0,
  "metadata": {
    "colab": {
      "provenance": [],
      "authorship_tag": "ABX9TyNf+kYLuXUWYRPH01c/P0sG",
      "include_colab_link": true
    },
    "kernelspec": {
      "name": "python3",
      "display_name": "Python 3"
    },
    "language_info": {
      "name": "python"
    }
  },
  "cells": [
    {
      "cell_type": "markdown",
      "metadata": {
        "id": "view-in-github",
        "colab_type": "text"
      },
      "source": [
        "<a href=\"https://colab.research.google.com/github/Sara-DaCanal/Progetto-ML/blob/main/project.ipynb\" target=\"_parent\"><img src=\"https://colab.research.google.com/assets/colab-badge.svg\" alt=\"Open In Colab\"/></a>"
      ]
    },
    {
      "cell_type": "code",
      "source": [
        "import pandas as pd"
      ],
      "metadata": {
        "id": "KXghx8iBdh_U"
      },
      "execution_count": 5,
      "outputs": []
    },
    {
      "cell_type": "code",
      "execution_count": 2,
      "metadata": {
        "colab": {
          "base_uri": "https://localhost:8080/"
        },
        "id": "X_5LQyYFZt_S",
        "outputId": "4880ad2e-349a-4097-ea16-9a4855830c90"
      },
      "outputs": [
        {
          "output_type": "stream",
          "name": "stdout",
          "text": [
            "Drive already mounted at /content/drive; to attempt to forcibly remount, call drive.mount(\"/content/drive\", force_remount=True).\n"
          ]
        }
      ],
      "source": [
        "from google.colab import drive\n",
        "drive.mount('/content/drive')\n"
      ]
    },
    {
      "cell_type": "code",
      "source": [
        "path_to_dataset = '/content/drive/MyDrive/secondary_data_shuffled.csv'"
      ],
      "metadata": {
        "id": "2pATu1-achxr"
      },
      "execution_count": 7,
      "outputs": []
    },
    {
      "cell_type": "code",
      "source": [
        "df = pd.read_csv(path_to_dataset, sep=';')\n",
        "print(df)"
      ],
      "metadata": {
        "colab": {
          "base_uri": "https://localhost:8080/"
        },
        "id": "ISvZSS_1dGdD",
        "outputId": "9eb2ca38-2cd2-4ab8-ca95-43c14e18cf63"
      },
      "execution_count": 14,
      "outputs": [
        {
          "output_type": "stream",
          "name": "stdout",
          "text": [
            "      class  cap-diameter cap-shape cap-surface cap-color  \\\n",
            "0         e          1.72         x           s         y   \n",
            "1         e          9.59         f           e         b   \n",
            "2         p          0.86         x           g         p   \n",
            "3         p          4.32         x         NaN         e   \n",
            "4         e          2.80         x           s         w   \n",
            "...     ...           ...       ...         ...       ...   \n",
            "61064     p         13.81         x           k         n   \n",
            "61065     p          2.69         x           d         w   \n",
            "61066     e         11.70         f         NaN         g   \n",
            "61067     p          2.83         s           w         u   \n",
            "61068     p          1.57         x           i         l   \n",
            "\n",
            "      does-bruise-or-bleed gill-attachment gill-spacing gill-color  \\\n",
            "0                        f               d          NaN          w   \n",
            "1                        f             NaN            c          b   \n",
            "2                        f               a          NaN          p   \n",
            "3                        f               x          NaN          w   \n",
            "4                        f               d            d          w   \n",
            "...                    ...             ...          ...        ...   \n",
            "61064                    t               p          NaN          y   \n",
            "61065                    f               d            d          p   \n",
            "61066                    f               s            c          u   \n",
            "61067                    f               a            c          u   \n",
            "61068                    f               a          NaN          p   \n",
            "\n",
            "       stem-height  ...  stem-root stem-surface stem-color veil-type  \\\n",
            "0             7.01  ...        NaN            t          y       NaN   \n",
            "1             4.73  ...        NaN          NaN          w       NaN   \n",
            "2             4.25  ...        NaN            s          k       NaN   \n",
            "3             4.91  ...        NaN          NaN          w       NaN   \n",
            "4             3.13  ...        NaN          NaN          w       NaN   \n",
            "...            ...  ...        ...          ...        ...       ...   \n",
            "61064        10.06  ...          c          NaN          y       NaN   \n",
            "61065         3.76  ...        NaN            h          w       NaN   \n",
            "61066         7.36  ...        NaN          NaN          b       NaN   \n",
            "61067         5.76  ...        NaN            s          u       NaN   \n",
            "61068         3.26  ...        NaN          NaN          w       NaN   \n",
            "\n",
            "      veil-color has-ring ring-type spore-print-color habitat season  \n",
            "0            NaN        f         f               NaN       h      u  \n",
            "1            NaN        t         f               NaN       d      a  \n",
            "2            NaN        f         f               NaN       d      s  \n",
            "3            NaN        f         f               NaN       d      u  \n",
            "4            NaN        f         f               NaN       m      a  \n",
            "...          ...      ...       ...               ...     ...    ...  \n",
            "61064        NaN        f         f               NaN       d      a  \n",
            "61065        NaN        f         f               NaN       g      a  \n",
            "61066        NaN        f         f               NaN       l      a  \n",
            "61067        NaN        f         f               NaN       d      a  \n",
            "61068        NaN        f         f                 p       g      u  \n",
            "\n",
            "[61069 rows x 21 columns]\n"
          ]
        }
      ]
    },
    {
      "cell_type": "code",
      "source": [
        "target = pd.DataFrame(df, columns=['class'])\n",
        "print(target)\n"
      ],
      "metadata": {
        "colab": {
          "base_uri": "https://localhost:8080/"
        },
        "id": "1uWbXXy6dhGg",
        "outputId": "5a2720fd-4774-478b-d591-0cd61fb86d66"
      },
      "execution_count": 15,
      "outputs": [
        {
          "output_type": "stream",
          "name": "stdout",
          "text": [
            "      class\n",
            "0         e\n",
            "1         e\n",
            "2         p\n",
            "3         p\n",
            "4         e\n",
            "...     ...\n",
            "61064     p\n",
            "61065     p\n",
            "61066     e\n",
            "61067     p\n",
            "61068     p\n",
            "\n",
            "[61069 rows x 1 columns]\n"
          ]
        }
      ]
    }
  ]
}